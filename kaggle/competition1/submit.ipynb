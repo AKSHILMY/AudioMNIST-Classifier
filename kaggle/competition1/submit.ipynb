{
 "cells": [
  {
   "cell_type": "markdown",
   "metadata": {},
   "source": [
    "## Install & Imports"
   ]
  },
  {
   "cell_type": "code",
   "execution_count": 1,
   "metadata": {},
   "outputs": [
    {
     "name": "stdout",
     "output_type": "stream",
     "text": [
      "Requirement already satisfied: numpy in /home/akeel/AudioMNIST-Classifier/.venv/lib/python3.10/site-packages (1.26.0)\n",
      "Requirement already satisfied: pandas in /home/akeel/AudioMNIST-Classifier/.venv/lib/python3.10/site-packages (2.1.1)\n",
      "Requirement already satisfied: matplotlib in /home/akeel/AudioMNIST-Classifier/.venv/lib/python3.10/site-packages (3.8.0)\n",
      "Requirement already satisfied: seaborn in /home/akeel/AudioMNIST-Classifier/.venv/lib/python3.10/site-packages (0.12.2)\n",
      "Requirement already satisfied: scikit-learn in /home/akeel/AudioMNIST-Classifier/.venv/lib/python3.10/site-packages (1.3.1)\n",
      "Requirement already satisfied: python-dateutil>=2.8.2 in /home/akeel/AudioMNIST-Classifier/.venv/lib/python3.10/site-packages (from pandas) (2.8.2)\n",
      "Requirement already satisfied: pytz>=2020.1 in /home/akeel/AudioMNIST-Classifier/.venv/lib/python3.10/site-packages (from pandas) (2023.3.post1)\n",
      "Requirement already satisfied: tzdata>=2022.1 in /home/akeel/AudioMNIST-Classifier/.venv/lib/python3.10/site-packages (from pandas) (2023.3)\n",
      "Requirement already satisfied: contourpy>=1.0.1 in /home/akeel/AudioMNIST-Classifier/.venv/lib/python3.10/site-packages (from matplotlib) (1.1.1)\n",
      "Requirement already satisfied: cycler>=0.10 in /home/akeel/AudioMNIST-Classifier/.venv/lib/python3.10/site-packages (from matplotlib) (0.11.0)\n",
      "Requirement already satisfied: fonttools>=4.22.0 in /home/akeel/AudioMNIST-Classifier/.venv/lib/python3.10/site-packages (from matplotlib) (4.42.1)\n",
      "Requirement already satisfied: kiwisolver>=1.0.1 in /home/akeel/AudioMNIST-Classifier/.venv/lib/python3.10/site-packages (from matplotlib) (1.4.5)\n",
      "Requirement already satisfied: packaging>=20.0 in /home/akeel/AudioMNIST-Classifier/.venv/lib/python3.10/site-packages (from matplotlib) (23.1)\n",
      "Requirement already satisfied: pillow>=6.2.0 in /home/akeel/AudioMNIST-Classifier/.venv/lib/python3.10/site-packages (from matplotlib) (10.0.1)\n",
      "Requirement already satisfied: pyparsing>=2.3.1 in /home/akeel/AudioMNIST-Classifier/.venv/lib/python3.10/site-packages (from matplotlib) (3.1.1)\n",
      "Requirement already satisfied: scipy>=1.5.0 in /home/akeel/AudioMNIST-Classifier/.venv/lib/python3.10/site-packages (from scikit-learn) (1.11.2)\n",
      "Requirement already satisfied: joblib>=1.1.1 in /home/akeel/AudioMNIST-Classifier/.venv/lib/python3.10/site-packages (from scikit-learn) (1.3.2)\n",
      "Requirement already satisfied: threadpoolctl>=2.0.0 in /home/akeel/AudioMNIST-Classifier/.venv/lib/python3.10/site-packages (from scikit-learn) (3.2.0)\n",
      "Requirement already satisfied: six>=1.5 in /home/akeel/AudioMNIST-Classifier/.venv/lib/python3.10/site-packages (from python-dateutil>=2.8.2->pandas) (1.16.0)\n",
      "Note: you may need to restart the kernel to use updated packages.\n"
     ]
    }
   ],
   "source": [
    "%pip install numpy pandas matplotlib seaborn scikit-learn"
   ]
  },
  {
   "cell_type": "code",
   "execution_count": 2,
   "metadata": {},
   "outputs": [],
   "source": [
    "import numpy as np\n",
    "import pandas as pd\n",
    "import matplotlib.pyplot as plt\n",
    "import seaborn as sns\n",
    "\n",
    "%matplotlib inline"
   ]
  },
  {
   "cell_type": "markdown",
   "metadata": {},
   "source": [
    "## Initialization of global variables"
   ]
  },
  {
   "cell_type": "code",
   "execution_count": 3,
   "metadata": {},
   "outputs": [],
   "source": [
    "LABEL_1 = \"label_1\"\n",
    "LABEL_2 = \"label_2\"\n",
    "LABEL_3 = \"label_3\"\n",
    "LABEL_4 = \"label_4\"\n",
    "\n",
    "NUM_OF_FEATURES = 768\n",
    "LABELS = [LABEL_1,LABEL_2,LABEL_3,LABEL_4]\n",
    "FEATURES = [f\"feature_{i+1}\" for i in range(0,NUM_OF_FEATURES)]"
   ]
  },
  {
   "cell_type": "markdown",
   "metadata": {},
   "source": [
    "## Analysis of Dataset"
   ]
  },
  {
   "cell_type": "code",
   "execution_count": 4,
   "metadata": {},
   "outputs": [],
   "source": [
    "TRAIN_DF = pd.read_csv(\"dataset/train.csv\")\n",
    "VALID_DF = pd.read_csv(\"dataset/valid.csv\")\n",
    "TEST_DF = pd.read_csv(\"dataset/test.csv\")"
   ]
  },
  {
   "cell_type": "code",
   "execution_count": 5,
   "metadata": {},
   "outputs": [],
   "source": [
    "assert len(TRAIN_DF.columns) - 4 == NUM_OF_FEATURES"
   ]
  },
  {
   "cell_type": "markdown",
   "metadata": {},
   "source": [
    "## Preprocessing"
   ]
  },
  {
   "cell_type": "code",
   "execution_count": 6,
   "metadata": {},
   "outputs": [],
   "source": [
    "from sklearn.preprocessing import RobustScaler\n",
    "from sklearn import svm\n",
    "from sklearn import metrics"
   ]
  },
  {
   "cell_type": "code",
   "execution_count": 7,
   "metadata": {},
   "outputs": [],
   "source": [
    "x_train_dict = {}\n",
    "y_train_dict = {}\n",
    "x_valid_dict = {}\n",
    "y_valid_dict = {}"
   ]
  },
  {
   "cell_type": "code",
   "execution_count": 8,
   "metadata": {},
   "outputs": [],
   "source": [
    "for target_label in LABELS:\n",
    "  train_df_copy = TRAIN_DF[TRAIN_DF[LABEL_2].notna()] if target_label == LABEL_2 else TRAIN_DF\n",
    "  valid_df_copy = VALID_DF[VALID_DF[LABEL_2].notna()] if target_label == LABEL_2 else VALID_DF\n",
    "\n",
    "  scaler = RobustScaler()\n",
    "\n",
    "  x_train_dict[target_label] = pd.DataFrame(scaler.fit_transform(train_df_copy.drop(LABELS,axis=1)),columns=FEATURES)\n",
    "  y_train_dict[target_label] = train_df_copy[target_label]\n",
    "\n",
    "  x_valid_dict[target_label] = pd.DataFrame(scaler.transform(valid_df_copy.drop(LABELS,axis=1)),columns=FEATURES)\n",
    "  y_valid_dict[target_label] = valid_df_copy[target_label]\n"
   ]
  },
  {
   "cell_type": "markdown",
   "metadata": {},
   "source": [
    "## Feature Engineering"
   ]
  },
  {
   "cell_type": "code",
   "execution_count": 9,
   "metadata": {},
   "outputs": [],
   "source": [
    "from sklearn.feature_selection import SelectKBest, f_classif\n",
    "from sklearn.decomposition import PCA"
   ]
  },
  {
   "cell_type": "code",
   "execution_count": 10,
   "metadata": {},
   "outputs": [],
   "source": [
    "def select_k_best_using_ANOVA_F(x_train,y_train,x_valid,k=100):\n",
    "  selector = SelectKBest(f_classif,k = k)\n",
    "  x_train_now = selector.fit_transform(x_train,y_train)\n",
    "  x_valid_now = selector.transform(x_valid)\n",
    "  return x_train_now,x_valid_now,selector\n",
    "\n",
    "def PCA_transform(x_train,x_valid,n_components=0.95,svd_solver=\"full\"):\n",
    "  pca = PCA(n_components=n_components,svd_solver=svd_solver)\n",
    "  pca.fit(x_train)\n",
    "  x_train_trf = pd.DataFrame(pca.transform(x_train))\n",
    "  x_valid_trf = pd.DataFrame(pca.transform(x_valid))\n",
    "  return x_train_trf,x_valid_trf,pca\n",
    "\n",
    "def get_accuracy(x_train,y_train,x_valid,y_valid,classifier=\"svc\",params={\"kernel\" : \"linear\",\"average\": \"weighted\",\"class_weight\": None}):\n",
    "  if classifier==\"svc\":\n",
    "    classifier = svm.SVC(kernel=params['kernel'],class_weight = params[\"class_weight\"])\n",
    "    classifier.fit(x_train,y_train)\n",
    "  y_pred = classifier.predict(x_valid)\n",
    "  conf_matrix = metrics.confusion_matrix(y_valid,y_pred)\n",
    "  accuracy = metrics.accuracy_score(y_valid,y_pred)\n",
    "  precision = metrics.precision_score(y_valid,y_pred,average=params[\"average\"])\n",
    "  recall = metrics.recall_score(y_valid,y_pred,average=params[\"average\"])\n",
    "  return conf_matrix,accuracy,precision,recall\n",
    "\n"
   ]
  },
  {
   "cell_type": "markdown",
   "metadata": {},
   "source": [
    "## Label 01 : Model Training, Validation & Testing"
   ]
  },
  {
   "cell_type": "code",
   "execution_count": 11,
   "metadata": {},
   "outputs": [],
   "source": [
    "conf_matrix_before,accuracy_before,precision_before,recall_before = get_accuracy(\n",
    "    x_train= x_train_dict[LABEL_1],\n",
    "    y_train = y_train_dict[LABEL_1],\n",
    "    x_valid = x_valid_dict[LABEL_1],\n",
    "    y_valid = y_valid_dict[LABEL_1],\n",
    "    classifier=\"svc\",\n",
    "    params = {\n",
    "        \"kernel\" : \"linear\",\n",
    "        \"average\" : \"weighted\",\n",
    "        \"class_weight\": None\n",
    "    }\n",
    ")"
   ]
  },
  {
   "cell_type": "code",
   "execution_count": 12,
   "metadata": {},
   "outputs": [
    {
     "name": "stdout",
     "output_type": "stream",
     "text": [
      "Accuracy: 0.94\n",
      "Precision: 0.9451419562893247\n",
      "Recall: 0.94\n"
     ]
    }
   ],
   "source": [
    "print(f\"Accuracy: {accuracy_before}\")\n",
    "print(f\"Precision: {precision_before}\")\n",
    "print(f\"Recall: {recall_before}\")"
   ]
  },
  {
   "cell_type": "code",
   "execution_count": 13,
   "metadata": {},
   "outputs": [],
   "source": [
    "num_of_features_expected = 768\n",
    "# Collection of all 768 features is not yet required\n",
    "x_train_now,x_valid_now,selector = select_k_best_using_ANOVA_F(\n",
    "    x_train = x_train_dict[LABEL_1],\n",
    "    y_train = y_train_dict[LABEL_1],\n",
    "    x_valid = x_valid_dict[LABEL_1],\n",
    "    k = num_of_features_expected,\n",
    ")\n",
    "x_train_trf,x_valid_trf,pca = PCA_transform(\n",
    "    x_train = x_train_now,\n",
    "    x_valid = x_valid_now,\n",
    "    n_components = 0.99,\n",
    "    svd_solver = \"full\",\n",
    "\n",
    ")\n",
    "conf_matrix,accuracy,precision,recall = get_accuracy(\n",
    "    x_train= x_train_trf,\n",
    "    y_train = y_train_dict[LABEL_1],\n",
    "    x_valid = x_valid_trf,\n",
    "    y_valid = y_valid_dict[LABEL_1],\n",
    "    classifier=\"svc\",\n",
    "    params = {\n",
    "        \"kernel\" : \"linear\",\n",
    "        \"average\" : \"weighted\",\n",
    "        \"class_weight\": None\n",
    "    }\n",
    ")\n"
   ]
  },
  {
   "cell_type": "code",
   "execution_count": 14,
   "metadata": {},
   "outputs": [
    {
     "name": "stdout",
     "output_type": "stream",
     "text": [
      "Number of features : RangeIndex(start=0, stop=569, step=1)\n"
     ]
    }
   ],
   "source": [
    "print(f\"Number of features : {x_train_trf.columns}\") "
   ]
  },
  {
   "cell_type": "code",
   "execution_count": 15,
   "metadata": {},
   "outputs": [
    {
     "name": "stdout",
     "output_type": "stream",
     "text": [
      "Accuracy: 0.928\n",
      "Precision: 0.9343005972126714\n",
      "Recall: 0.928\n"
     ]
    }
   ],
   "source": [
    "print(f\"Accuracy: {accuracy}\")\n",
    "print(f\"Precision: {precision}\")\n",
    "print(f\"Recall: {recall}\")"
   ]
  },
  {
   "cell_type": "code",
   "execution_count": 16,
   "metadata": {},
   "outputs": [],
   "source": [
    "TEST_DF = pd.read_csv(\"dataset/test.csv\")\n",
    "IDS = TEST_DF[TEST_DF.columns[0]]\n",
    "features_df = TEST_DF[TEST_DF.columns[1:]]"
   ]
  },
  {
   "cell_type": "code",
   "execution_count": 17,
   "metadata": {},
   "outputs": [],
   "source": [
    "scaled_features_df = pd.DataFrame(scaler.fit_transform(features_df),columns=FEATURES)"
   ]
  },
  {
   "cell_type": "code",
   "execution_count": 18,
   "metadata": {},
   "outputs": [],
   "source": [
    "k = 768\n",
    "n_components = 0.99\n",
    "selector = SelectKBest(f_classif,k=k)\n",
    "x_train_now = selector.fit_transform(x_train_dict[LABEL_1],y_train_dict[LABEL_1])\n",
    "pca = PCA(n_components=n_components,svd_solver=\"full\")\n",
    "pca.fit(x_train_now)\n",
    "x_train_trf = pd.DataFrame(pca.transform(x_train_now))\n",
    "\n",
    "scaled_features_df_now = selector.transform(scaled_features_df)\n",
    "scaled_features_df_now = pca.transform(scaled_features_df_now)\n",
    "\n",
    "classifier = svm.SVC(kernel=\"linear\",class_weight = None)\n",
    "classifier.fit(x_train_trf,y_train_dict[LABEL_1])\n",
    "labels_after = classifier.predict(scaled_features_df_now)\n"
   ]
  },
  {
   "cell_type": "code",
   "execution_count": 19,
   "metadata": {},
   "outputs": [],
   "source": [
    "assert len(features_df) == len(labels_after)\n"
   ]
  },
  {
   "cell_type": "code",
   "execution_count": 20,
   "metadata": {},
   "outputs": [],
   "source": [
    "submission = pd.DataFrame()\n",
    "submission = pd.concat([submission,IDS],axis=1)"
   ]
  },
  {
   "cell_type": "code",
   "execution_count": 21,
   "metadata": {},
   "outputs": [],
   "source": [
    "submission = pd.concat([submission,pd.DataFrame(labels_after,columns=['label_1'])],ignore_index=False,axis=1)"
   ]
  },
  {
   "cell_type": "code",
   "execution_count": 22,
   "metadata": {},
   "outputs": [
    {
     "data": {
      "text/html": [
       "<div>\n",
       "<style scoped>\n",
       "    .dataframe tbody tr th:only-of-type {\n",
       "        vertical-align: middle;\n",
       "    }\n",
       "\n",
       "    .dataframe tbody tr th {\n",
       "        vertical-align: top;\n",
       "    }\n",
       "\n",
       "    .dataframe thead th {\n",
       "        text-align: right;\n",
       "    }\n",
       "</style>\n",
       "<table border=\"1\" class=\"dataframe\">\n",
       "  <thead>\n",
       "    <tr style=\"text-align: right;\">\n",
       "      <th></th>\n",
       "      <th>ID</th>\n",
       "      <th>label_1</th>\n",
       "    </tr>\n",
       "  </thead>\n",
       "  <tbody>\n",
       "    <tr>\n",
       "      <th>0</th>\n",
       "      <td>1</td>\n",
       "      <td>26</td>\n",
       "    </tr>\n",
       "    <tr>\n",
       "      <th>1</th>\n",
       "      <td>2</td>\n",
       "      <td>18</td>\n",
       "    </tr>\n",
       "    <tr>\n",
       "      <th>2</th>\n",
       "      <td>3</td>\n",
       "      <td>16</td>\n",
       "    </tr>\n",
       "    <tr>\n",
       "      <th>3</th>\n",
       "      <td>4</td>\n",
       "      <td>7</td>\n",
       "    </tr>\n",
       "    <tr>\n",
       "      <th>4</th>\n",
       "      <td>5</td>\n",
       "      <td>58</td>\n",
       "    </tr>\n",
       "    <tr>\n",
       "      <th>...</th>\n",
       "      <td>...</td>\n",
       "      <td>...</td>\n",
       "    </tr>\n",
       "    <tr>\n",
       "      <th>739</th>\n",
       "      <td>740</td>\n",
       "      <td>35</td>\n",
       "    </tr>\n",
       "    <tr>\n",
       "      <th>740</th>\n",
       "      <td>741</td>\n",
       "      <td>35</td>\n",
       "    </tr>\n",
       "    <tr>\n",
       "      <th>741</th>\n",
       "      <td>742</td>\n",
       "      <td>54</td>\n",
       "    </tr>\n",
       "    <tr>\n",
       "      <th>742</th>\n",
       "      <td>743</td>\n",
       "      <td>38</td>\n",
       "    </tr>\n",
       "    <tr>\n",
       "      <th>743</th>\n",
       "      <td>744</td>\n",
       "      <td>51</td>\n",
       "    </tr>\n",
       "  </tbody>\n",
       "</table>\n",
       "<p>744 rows × 2 columns</p>\n",
       "</div>"
      ],
      "text/plain": [
       "      ID  label_1\n",
       "0      1       26\n",
       "1      2       18\n",
       "2      3       16\n",
       "3      4        7\n",
       "4      5       58\n",
       "..   ...      ...\n",
       "739  740       35\n",
       "740  741       35\n",
       "741  742       54\n",
       "742  743       38\n",
       "743  744       51\n",
       "\n",
       "[744 rows x 2 columns]"
      ]
     },
     "execution_count": 22,
     "metadata": {},
     "output_type": "execute_result"
    }
   ],
   "source": [
    "submission"
   ]
  },
  {
   "cell_type": "markdown",
   "metadata": {},
   "source": [
    "## Label 02 : Model Training, Validation & Testing"
   ]
  },
  {
   "cell_type": "code",
   "execution_count": 23,
   "metadata": {},
   "outputs": [],
   "source": [
    "conf_matrix_before,accuracy_before,precision_before,recall_before = get_accuracy(\n",
    "    x_train= x_train_dict[LABEL_2],\n",
    "    y_train = y_train_dict[LABEL_2],\n",
    "    x_valid = x_valid_dict[LABEL_2],\n",
    "    y_valid = y_valid_dict[LABEL_2],\n",
    "    classifier=\"svc\",\n",
    "    params = {\n",
    "        \"kernel\" : \"linear\",\n",
    "        \"average\" : \"weighted\",\n",
    "        \"class_weight\": None\n",
    "    }\n",
    ")"
   ]
  },
  {
   "cell_type": "code",
   "execution_count": 24,
   "metadata": {},
   "outputs": [
    {
     "name": "stdout",
     "output_type": "stream",
     "text": [
      "Accuracy: 0.7961956521739131\n",
      "Precision: 0.801396072051566\n",
      "Recall: 0.7961956521739131\n"
     ]
    }
   ],
   "source": [
    "print(f\"Accuracy: {accuracy_before}\")\n",
    "print(f\"Precision: {precision_before}\")\n",
    "print(f\"Recall: {recall_before}\")"
   ]
  },
  {
   "cell_type": "code",
   "execution_count": 25,
   "metadata": {},
   "outputs": [],
   "source": [
    "num_of_features_expected = 768\n",
    "# Collection of all 768 features is not yet required\n",
    "x_train_now,x_valid_now,selector = select_k_best_using_ANOVA_F(\n",
    "    x_train = x_train_dict[LABEL_2],\n",
    "    y_train = y_train_dict[LABEL_2],\n",
    "    x_valid = x_valid_dict[LABEL_2],\n",
    "    k = num_of_features_expected,\n",
    ")\n",
    "x_train_trf,x_valid_trf,pca = PCA_transform(\n",
    "    x_train = x_train_now,\n",
    "    x_valid = x_valid_now,\n",
    "    n_components = 0.99,\n",
    "    svd_solver = \"full\",\n",
    "\n",
    ")\n",
    "conf_matrix,accuracy,precision,recall = get_accuracy(\n",
    "    x_train= x_train_trf,\n",
    "    y_train = y_train_dict[LABEL_2],\n",
    "    x_valid = x_valid_trf,\n",
    "    y_valid = y_valid_dict[LABEL_2],\n",
    "    classifier=\"svc\",\n",
    "    params = {\n",
    "        \"kernel\" : \"linear\",\n",
    "        \"average\" : \"weighted\",\n",
    "        \"class_weight\": None\n",
    "    }\n",
    ")\n"
   ]
  },
  {
   "cell_type": "code",
   "execution_count": 26,
   "metadata": {},
   "outputs": [
    {
     "name": "stdout",
     "output_type": "stream",
     "text": [
      "Number of features : RangeIndex(start=0, stop=569, step=1)\n"
     ]
    }
   ],
   "source": [
    "print(f\"Number of features : {x_train_trf.columns}\") "
   ]
  },
  {
   "cell_type": "code",
   "execution_count": 27,
   "metadata": {},
   "outputs": [
    {
     "name": "stdout",
     "output_type": "stream",
     "text": [
      "Accuracy: 0.7730978260869565\n",
      "Precision: 0.7783922977125384\n",
      "Recall: 0.7730978260869565\n"
     ]
    }
   ],
   "source": [
    "print(f\"Accuracy: {accuracy}\")\n",
    "print(f\"Precision: {precision}\")\n",
    "print(f\"Recall: {recall}\")"
   ]
  },
  {
   "cell_type": "code",
   "execution_count": 28,
   "metadata": {},
   "outputs": [],
   "source": [
    "k = 768\n",
    "n_components = 0.99\n",
    "selector = SelectKBest(f_classif,k=k)\n",
    "x_train_now = selector.fit_transform(x_train_dict[LABEL_2],y_train_dict[LABEL_2])\n",
    "pca = PCA(n_components=n_components,svd_solver=\"full\")\n",
    "pca.fit(x_train_now)\n",
    "x_train_trf = pd.DataFrame(pca.transform(x_train_now))\n",
    "\n",
    "scaled_features_df_now = selector.transform(scaled_features_df)\n",
    "scaled_features_df_now = pca.transform(scaled_features_df_now)\n",
    "\n",
    "classifier = svm.SVC(kernel=\"linear\",class_weight = None)\n",
    "classifier.fit(x_train_trf,y_train_dict[LABEL_2])\n",
    "labels_after = classifier.predict(scaled_features_df_now)\n"
   ]
  },
  {
   "cell_type": "code",
   "execution_count": 29,
   "metadata": {},
   "outputs": [],
   "source": [
    "assert len(features_df) == len(labels_after)\n"
   ]
  },
  {
   "cell_type": "code",
   "execution_count": 30,
   "metadata": {},
   "outputs": [],
   "source": [
    "submission = pd.concat([submission,pd.DataFrame(labels_after,columns=['label_2'])],ignore_index=False,axis=1)"
   ]
  },
  {
   "cell_type": "code",
   "execution_count": 31,
   "metadata": {},
   "outputs": [
    {
     "data": {
      "text/html": [
       "<div>\n",
       "<style scoped>\n",
       "    .dataframe tbody tr th:only-of-type {\n",
       "        vertical-align: middle;\n",
       "    }\n",
       "\n",
       "    .dataframe tbody tr th {\n",
       "        vertical-align: top;\n",
       "    }\n",
       "\n",
       "    .dataframe thead th {\n",
       "        text-align: right;\n",
       "    }\n",
       "</style>\n",
       "<table border=\"1\" class=\"dataframe\">\n",
       "  <thead>\n",
       "    <tr style=\"text-align: right;\">\n",
       "      <th></th>\n",
       "      <th>ID</th>\n",
       "      <th>label_1</th>\n",
       "      <th>label_2</th>\n",
       "    </tr>\n",
       "  </thead>\n",
       "  <tbody>\n",
       "    <tr>\n",
       "      <th>0</th>\n",
       "      <td>1</td>\n",
       "      <td>26</td>\n",
       "      <td>22.0</td>\n",
       "    </tr>\n",
       "    <tr>\n",
       "      <th>1</th>\n",
       "      <td>2</td>\n",
       "      <td>18</td>\n",
       "      <td>25.0</td>\n",
       "    </tr>\n",
       "    <tr>\n",
       "      <th>2</th>\n",
       "      <td>3</td>\n",
       "      <td>16</td>\n",
       "      <td>30.0</td>\n",
       "    </tr>\n",
       "    <tr>\n",
       "      <th>3</th>\n",
       "      <td>4</td>\n",
       "      <td>7</td>\n",
       "      <td>27.0</td>\n",
       "    </tr>\n",
       "    <tr>\n",
       "      <th>4</th>\n",
       "      <td>5</td>\n",
       "      <td>58</td>\n",
       "      <td>29.0</td>\n",
       "    </tr>\n",
       "    <tr>\n",
       "      <th>...</th>\n",
       "      <td>...</td>\n",
       "      <td>...</td>\n",
       "      <td>...</td>\n",
       "    </tr>\n",
       "    <tr>\n",
       "      <th>739</th>\n",
       "      <td>740</td>\n",
       "      <td>35</td>\n",
       "      <td>24.0</td>\n",
       "    </tr>\n",
       "    <tr>\n",
       "      <th>740</th>\n",
       "      <td>741</td>\n",
       "      <td>35</td>\n",
       "      <td>24.0</td>\n",
       "    </tr>\n",
       "    <tr>\n",
       "      <th>741</th>\n",
       "      <td>742</td>\n",
       "      <td>54</td>\n",
       "      <td>27.0</td>\n",
       "    </tr>\n",
       "    <tr>\n",
       "      <th>742</th>\n",
       "      <td>743</td>\n",
       "      <td>38</td>\n",
       "      <td>32.0</td>\n",
       "    </tr>\n",
       "    <tr>\n",
       "      <th>743</th>\n",
       "      <td>744</td>\n",
       "      <td>51</td>\n",
       "      <td>31.0</td>\n",
       "    </tr>\n",
       "  </tbody>\n",
       "</table>\n",
       "<p>744 rows × 3 columns</p>\n",
       "</div>"
      ],
      "text/plain": [
       "      ID  label_1  label_2\n",
       "0      1       26     22.0\n",
       "1      2       18     25.0\n",
       "2      3       16     30.0\n",
       "3      4        7     27.0\n",
       "4      5       58     29.0\n",
       "..   ...      ...      ...\n",
       "739  740       35     24.0\n",
       "740  741       35     24.0\n",
       "741  742       54     27.0\n",
       "742  743       38     32.0\n",
       "743  744       51     31.0\n",
       "\n",
       "[744 rows x 3 columns]"
      ]
     },
     "execution_count": 31,
     "metadata": {},
     "output_type": "execute_result"
    }
   ],
   "source": [
    "submission"
   ]
  },
  {
   "cell_type": "markdown",
   "metadata": {},
   "source": [
    "## Label 03 : Model Training, Validation & Testing"
   ]
  },
  {
   "cell_type": "code",
   "execution_count": 32,
   "metadata": {},
   "outputs": [],
   "source": [
    "conf_matrix_before,accuracy_before,precision_before,recall_before = get_accuracy(\n",
    "    x_train= x_train_dict[LABEL_3],\n",
    "    y_train = y_train_dict[LABEL_3],\n",
    "    x_valid = x_valid_dict[LABEL_3],\n",
    "    y_valid = y_valid_dict[LABEL_3],\n",
    "    classifier=\"svc\",\n",
    "    params = {\n",
    "        \"kernel\" : \"linear\",\n",
    "        \"average\" : \"weighted\",\n",
    "        \"class_weight\": None\n",
    "    }\n",
    ")"
   ]
  },
  {
   "cell_type": "code",
   "execution_count": 33,
   "metadata": {},
   "outputs": [
    {
     "name": "stdout",
     "output_type": "stream",
     "text": [
      "Accuracy: 0.9946666666666667\n",
      "Precision: 0.9946666666666667\n",
      "Recall: 0.9946666666666667\n"
     ]
    }
   ],
   "source": [
    "print(f\"Accuracy: {accuracy_before}\")\n",
    "print(f\"Precision: {precision_before}\")\n",
    "print(f\"Recall: {recall_before}\")"
   ]
  },
  {
   "cell_type": "code",
   "execution_count": 34,
   "metadata": {},
   "outputs": [],
   "source": [
    "num_of_features_expected = 768\n",
    "# Collection of all 768 features is not yet required\n",
    "x_train_now,x_valid_now,selector = select_k_best_using_ANOVA_F(\n",
    "    x_train = x_train_dict[LABEL_3],\n",
    "    y_train = y_train_dict[LABEL_3],\n",
    "    x_valid = x_valid_dict[LABEL_3],\n",
    "    k = num_of_features_expected,\n",
    ")\n",
    "x_train_trf,x_valid_trf,pca = PCA_transform(\n",
    "    x_train = x_train_now,\n",
    "    x_valid = x_valid_now,\n",
    "    n_components = 0.99,\n",
    "    svd_solver = \"full\",\n",
    "\n",
    ")\n",
    "conf_matrix,accuracy,precision,recall = get_accuracy(\n",
    "    x_train= x_train_trf,\n",
    "    y_train = y_train_dict[LABEL_3],\n",
    "    x_valid = x_valid_trf,\n",
    "    y_valid = y_valid_dict[LABEL_3],\n",
    "    classifier=\"svc\",\n",
    "    params = {\n",
    "        \"kernel\" : \"linear\",\n",
    "        \"average\" : \"weighted\",\n",
    "        \"class_weight\": None\n",
    "    }\n",
    ")\n"
   ]
  },
  {
   "cell_type": "code",
   "execution_count": 35,
   "metadata": {},
   "outputs": [
    {
     "name": "stdout",
     "output_type": "stream",
     "text": [
      "Number of features : RangeIndex(start=0, stop=569, step=1)\n"
     ]
    }
   ],
   "source": [
    "print(f\"Number of features : {x_train_trf.columns}\") "
   ]
  },
  {
   "cell_type": "code",
   "execution_count": 36,
   "metadata": {},
   "outputs": [
    {
     "name": "stdout",
     "output_type": "stream",
     "text": [
      "Accuracy: 0.9973333333333333\n",
      "Precision: 0.9973703703703705\n",
      "Recall: 0.9973333333333333\n"
     ]
    }
   ],
   "source": [
    "print(f\"Accuracy: {accuracy}\")\n",
    "print(f\"Precision: {precision}\")\n",
    "print(f\"Recall: {recall}\")"
   ]
  },
  {
   "cell_type": "code",
   "execution_count": 37,
   "metadata": {},
   "outputs": [],
   "source": [
    "k = 768\n",
    "n_components = 0.99\n",
    "selector = SelectKBest(f_classif,k=k)\n",
    "x_train_now = selector.fit_transform(x_train_dict[LABEL_3],y_train_dict[LABEL_3])\n",
    "pca = PCA(n_components=n_components,svd_solver=\"full\")\n",
    "pca.fit(x_train_now)\n",
    "x_train_trf = pd.DataFrame(pca.transform(x_train_now))\n",
    "\n",
    "scaled_features_df_now = selector.transform(scaled_features_df)\n",
    "scaled_features_df_now = pca.transform(scaled_features_df_now)\n",
    "\n",
    "classifier = svm.SVC(kernel=\"linear\",class_weight = None)\n",
    "classifier.fit(x_train_trf,y_train_dict[LABEL_3])\n",
    "labels_after = classifier.predict(scaled_features_df_now)\n"
   ]
  },
  {
   "cell_type": "code",
   "execution_count": 38,
   "metadata": {},
   "outputs": [],
   "source": [
    "assert len(features_df) == len(labels_after)\n"
   ]
  },
  {
   "cell_type": "code",
   "execution_count": 39,
   "metadata": {},
   "outputs": [],
   "source": [
    "submission = pd.concat([submission,pd.DataFrame(labels_after,columns=['label_3'])],ignore_index=False,axis=1)"
   ]
  },
  {
   "cell_type": "code",
   "execution_count": 40,
   "metadata": {},
   "outputs": [
    {
     "data": {
      "text/html": [
       "<div>\n",
       "<style scoped>\n",
       "    .dataframe tbody tr th:only-of-type {\n",
       "        vertical-align: middle;\n",
       "    }\n",
       "\n",
       "    .dataframe tbody tr th {\n",
       "        vertical-align: top;\n",
       "    }\n",
       "\n",
       "    .dataframe thead th {\n",
       "        text-align: right;\n",
       "    }\n",
       "</style>\n",
       "<table border=\"1\" class=\"dataframe\">\n",
       "  <thead>\n",
       "    <tr style=\"text-align: right;\">\n",
       "      <th></th>\n",
       "      <th>ID</th>\n",
       "      <th>label_1</th>\n",
       "      <th>label_2</th>\n",
       "      <th>label_3</th>\n",
       "    </tr>\n",
       "  </thead>\n",
       "  <tbody>\n",
       "    <tr>\n",
       "      <th>0</th>\n",
       "      <td>1</td>\n",
       "      <td>26</td>\n",
       "      <td>22.0</td>\n",
       "      <td>0</td>\n",
       "    </tr>\n",
       "    <tr>\n",
       "      <th>1</th>\n",
       "      <td>2</td>\n",
       "      <td>18</td>\n",
       "      <td>25.0</td>\n",
       "      <td>1</td>\n",
       "    </tr>\n",
       "    <tr>\n",
       "      <th>2</th>\n",
       "      <td>3</td>\n",
       "      <td>16</td>\n",
       "      <td>30.0</td>\n",
       "      <td>1</td>\n",
       "    </tr>\n",
       "    <tr>\n",
       "      <th>3</th>\n",
       "      <td>4</td>\n",
       "      <td>7</td>\n",
       "      <td>27.0</td>\n",
       "      <td>1</td>\n",
       "    </tr>\n",
       "    <tr>\n",
       "      <th>4</th>\n",
       "      <td>5</td>\n",
       "      <td>58</td>\n",
       "      <td>29.0</td>\n",
       "      <td>0</td>\n",
       "    </tr>\n",
       "    <tr>\n",
       "      <th>...</th>\n",
       "      <td>...</td>\n",
       "      <td>...</td>\n",
       "      <td>...</td>\n",
       "      <td>...</td>\n",
       "    </tr>\n",
       "    <tr>\n",
       "      <th>739</th>\n",
       "      <td>740</td>\n",
       "      <td>35</td>\n",
       "      <td>24.0</td>\n",
       "      <td>1</td>\n",
       "    </tr>\n",
       "    <tr>\n",
       "      <th>740</th>\n",
       "      <td>741</td>\n",
       "      <td>35</td>\n",
       "      <td>24.0</td>\n",
       "      <td>1</td>\n",
       "    </tr>\n",
       "    <tr>\n",
       "      <th>741</th>\n",
       "      <td>742</td>\n",
       "      <td>54</td>\n",
       "      <td>27.0</td>\n",
       "      <td>1</td>\n",
       "    </tr>\n",
       "    <tr>\n",
       "      <th>742</th>\n",
       "      <td>743</td>\n",
       "      <td>38</td>\n",
       "      <td>32.0</td>\n",
       "      <td>1</td>\n",
       "    </tr>\n",
       "    <tr>\n",
       "      <th>743</th>\n",
       "      <td>744</td>\n",
       "      <td>51</td>\n",
       "      <td>31.0</td>\n",
       "      <td>1</td>\n",
       "    </tr>\n",
       "  </tbody>\n",
       "</table>\n",
       "<p>744 rows × 4 columns</p>\n",
       "</div>"
      ],
      "text/plain": [
       "      ID  label_1  label_2  label_3\n",
       "0      1       26     22.0        0\n",
       "1      2       18     25.0        1\n",
       "2      3       16     30.0        1\n",
       "3      4        7     27.0        1\n",
       "4      5       58     29.0        0\n",
       "..   ...      ...      ...      ...\n",
       "739  740       35     24.0        1\n",
       "740  741       35     24.0        1\n",
       "741  742       54     27.0        1\n",
       "742  743       38     32.0        1\n",
       "743  744       51     31.0        1\n",
       "\n",
       "[744 rows x 4 columns]"
      ]
     },
     "execution_count": 40,
     "metadata": {},
     "output_type": "execute_result"
    }
   ],
   "source": [
    "submission"
   ]
  },
  {
   "cell_type": "markdown",
   "metadata": {},
   "source": [
    "## Label 04 : Model Training, Validation & Testing"
   ]
  },
  {
   "cell_type": "code",
   "execution_count": 41,
   "metadata": {},
   "outputs": [],
   "source": [
    "conf_matrix_before,accuracy_before,precision_before,recall_before = get_accuracy(\n",
    "    x_train = x_train_dict[LABEL_4],\n",
    "    y_train = y_train_dict[LABEL_4],\n",
    "    x_valid = x_valid_dict[LABEL_4],\n",
    "    y_valid = y_valid_dict[LABEL_4],\n",
    "    classifier=\"svc\",\n",
    "    params = {\n",
    "        \"kernel\" : \"linear\",\n",
    "        \"average\" : \"weighted\",\n",
    "        \"class_weight\": \"balanced\"\n",
    "    }\n",
    ")"
   ]
  },
  {
   "cell_type": "code",
   "execution_count": 42,
   "metadata": {},
   "outputs": [
    {
     "name": "stdout",
     "output_type": "stream",
     "text": [
      "Accuracy: 0.9213333333333333\n",
      "Precision: 0.9241939416334153\n",
      "Recall: 0.9213333333333333\n"
     ]
    }
   ],
   "source": [
    "print(f\"Accuracy: {accuracy_before}\")\n",
    "print(f\"Precision: {precision_before}\")\n",
    "print(f\"Recall: {recall_before}\")"
   ]
  },
  {
   "cell_type": "code",
   "execution_count": 43,
   "metadata": {},
   "outputs": [],
   "source": [
    "num_of_features_expected = 768\n",
    "# Collection of all 768 features is not yet required\n",
    "x_train_now,x_valid_now,selector = select_k_best_using_ANOVA_F(\n",
    "    x_train = x_train_dict[LABEL_4],\n",
    "    y_train = y_train_dict[LABEL_4],\n",
    "    x_valid = x_valid_dict[LABEL_4],\n",
    "    k = num_of_features_expected,\n",
    ")\n",
    "x_train_trf,x_valid_trf,pca = PCA_transform(\n",
    "    x_train = x_train_now,\n",
    "    x_valid = x_valid_now,\n",
    "    n_components = 0.99,\n",
    "    svd_solver = \"full\",\n",
    "\n",
    ")\n",
    "conf_matrix,accuracy,precision,recall = get_accuracy(\n",
    "    x_train= x_train_trf,\n",
    "    y_train = y_train_dict[LABEL_4],\n",
    "    x_valid = x_valid_trf,\n",
    "    y_valid = y_valid_dict[LABEL_4],\n",
    "    classifier=\"svc\",\n",
    "    params = {\n",
    "        \"kernel\" : \"linear\",\n",
    "        \"average\" : \"weighted\",\n",
    "        \"class_weight\": \"balanced\"\n",
    "    }\n",
    ")\n"
   ]
  },
  {
   "cell_type": "code",
   "execution_count": null,
   "metadata": {},
   "outputs": [],
   "source": [
    "print(f\"Number of features : {x_train_trf.columns}\") "
   ]
  },
  {
   "cell_type": "code",
   "execution_count": null,
   "metadata": {},
   "outputs": [],
   "source": [
    "print(f\"Accuracy: {accuracy}\")\n",
    "print(f\"Precision: {precision}\")\n",
    "print(f\"Recall: {recall}\")"
   ]
  },
  {
   "cell_type": "code",
   "execution_count": null,
   "metadata": {},
   "outputs": [],
   "source": [
    "k = 768\n",
    "n_components = 0.99\n",
    "selector = SelectKBest(f_classif,k=k)\n",
    "x_train_now = selector.fit_transform(x_train_dict[LABEL_4],y_train_dict[LABEL_4])\n",
    "pca = PCA(n_components=n_components,svd_solver=\"full\")\n",
    "pca.fit(x_train_now)\n",
    "x_train_trf = pd.DataFrame(pca.transform(x_train_now))\n",
    "\n",
    "scaled_features_df_now = selector.transform(scaled_features_df)\n",
    "scaled_features_df_now = pca.transform(scaled_features_df_now)\n",
    "\n",
    "classifier = svm.SVC(kernel=\"linear\",class_weight = \"balanced\")\n",
    "classifier.fit(x_train_trf,y_train_dict[LABEL_4])\n",
    "labels_after = classifier.predict(scaled_features_df_now)\n"
   ]
  },
  {
   "cell_type": "code",
   "execution_count": null,
   "metadata": {},
   "outputs": [],
   "source": [
    "assert len(features_df) == len(labels_after)\n"
   ]
  },
  {
   "cell_type": "code",
   "execution_count": null,
   "metadata": {},
   "outputs": [],
   "source": [
    "submission = pd.concat([submission,pd.DataFrame(labels_after,columns=['label_4'])],ignore_index=False,axis=1)"
   ]
  },
  {
   "cell_type": "code",
   "execution_count": null,
   "metadata": {},
   "outputs": [],
   "source": [
    "submission"
   ]
  },
  {
   "cell_type": "markdown",
   "metadata": {},
   "source": [
    "## Submission"
   ]
  },
  {
   "cell_type": "code",
   "execution_count": null,
   "metadata": {},
   "outputs": [],
   "source": [
    "submission.to_csv(\"./submission.csv\",index_label=False,index=False)"
   ]
  }
 ],
 "metadata": {
  "kernelspec": {
   "display_name": ".venv",
   "language": "python",
   "name": "python3"
  },
  "language_info": {
   "codemirror_mode": {
    "name": "ipython",
    "version": 3
   },
   "file_extension": ".py",
   "mimetype": "text/x-python",
   "name": "python",
   "nbconvert_exporter": "python",
   "pygments_lexer": "ipython3",
   "version": "3.10.12"
  },
  "orig_nbformat": 4
 },
 "nbformat": 4,
 "nbformat_minor": 2
}
