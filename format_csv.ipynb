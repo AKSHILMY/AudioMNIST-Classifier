{
 "cells": [
  {
   "cell_type": "code",
   "execution_count": 1,
   "metadata": {},
   "outputs": [],
   "source": [
    "import pandas as pd"
   ]
  },
  {
   "cell_type": "code",
   "execution_count": 2,
   "metadata": {},
   "outputs": [],
   "source": [
    "MAX_NEW_FEATURE = 256"
   ]
  },
  {
   "cell_type": "code",
   "execution_count": 3,
   "metadata": {},
   "outputs": [],
   "source": [
    "def perform_formatting(data,new_file_name):\n",
    "    data[data.columns[2]] = len(data.columns) - 3\n",
    "    new_feature_column = \"new_feature_\"\n",
    "    for i in range(len(data.columns) - 3,MAX_NEW_FEATURE+1):\n",
    "        data[new_feature_column+str(i)] = \"\"\n",
    "    data.to_json(new_file_name)\n",
    "    return data"
   ]
  },
  {
   "cell_type": "code",
   "execution_count": 4,
   "metadata": {},
   "outputs": [
    {
     "ename": "ValueError",
     "evalue": "cannot convert float NaN to integer",
     "output_type": "error",
     "traceback": [
      "\u001b[1;31m---------------------------------------------------------------------------\u001b[0m",
      "\u001b[1;31mValueError\u001b[0m                                Traceback (most recent call last)",
      "Cell \u001b[1;32mIn[4], line 1\u001b[0m\n\u001b[1;32m----> 1\u001b[0m perform_formatting(\u001b[39m\"\u001b[39;49m\u001b[39m190028C_label_1.csv\u001b[39;49m\u001b[39m\"\u001b[39;49m)\n\u001b[0;32m      2\u001b[0m \u001b[39m# perform_formatting(label1,\"new_190028C_label_2.csv\")\u001b[39;00m\n\u001b[0;32m      3\u001b[0m \u001b[39m# perform_formatting(label1,\"new_190028C_label_3.csv\")\u001b[39;00m\n\u001b[0;32m      4\u001b[0m \u001b[39m# perform_formatting(label1,\"new_190028C_label_4.csv\")\u001b[39;00m\n",
      "Cell \u001b[1;32mIn[3], line 5\u001b[0m, in \u001b[0;36mperform_formatting\u001b[1;34m(old_file_name)\u001b[0m\n\u001b[0;32m      2\u001b[0m new_file_name \u001b[39m=\u001b[39m \u001b[39m\"\u001b[39m\u001b[39mnew\u001b[39m\u001b[39m\"\u001b[39m\u001b[39m+\u001b[39mold_file_name\n\u001b[0;32m      3\u001b[0m data \u001b[39m=\u001b[39m pd\u001b[39m.\u001b[39mread_csv(old_file_name)\n\u001b[1;32m----> 5\u001b[0m num_of_feature \u001b[39m=\u001b[39m \u001b[39mint\u001b[39;49m(data[data\u001b[39m.\u001b[39;49mcolumns[\u001b[39m2\u001b[39;49m]]\u001b[39m.\u001b[39;49miloc[\u001b[39m0\u001b[39;49m])\n\u001b[0;32m      6\u001b[0m \u001b[39massert\u001b[39;00m num_of_feature \u001b[39m<\u001b[39m \u001b[39m256\u001b[39m\n\u001b[0;32m      7\u001b[0m data[data\u001b[39m.\u001b[39mcolumns[\u001b[39m2\u001b[39m]] \u001b[39m=\u001b[39m \u001b[39mlen\u001b[39m(data\u001b[39m.\u001b[39mcolumns) \u001b[39m-\u001b[39m \u001b[39m3\u001b[39m\n",
      "\u001b[1;31mValueError\u001b[0m: cannot convert float NaN to integer"
     ]
    }
   ],
   "source": [
    "perform_formatting(\"190028C_label_1.csv\")\n",
    "# perform_formatting(label1,\"new_190028C_label_2.csv\")\n",
    "# perform_formatting(label1,\"new_190028C_label_3.csv\")\n",
    "# perform_formatting(label1,\"new_190028C_label_4.csv\")"
   ]
  }
 ],
 "metadata": {
  "kernelspec": {
   "display_name": "Python 3",
   "language": "python",
   "name": "python3"
  },
  "language_info": {
   "codemirror_mode": {
    "name": "ipython",
    "version": 3
   },
   "file_extension": ".py",
   "mimetype": "text/x-python",
   "name": "python",
   "nbconvert_exporter": "python",
   "pygments_lexer": "ipython3",
   "version": "3.10.5"
  },
  "orig_nbformat": 4
 },
 "nbformat": 4,
 "nbformat_minor": 2
}
